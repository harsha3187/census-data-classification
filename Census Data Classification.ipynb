{
 "cells": [
  {
   "cell_type": "markdown",
   "metadata": {},
   "source": [
    "<h2>Packages and Reading Data</h2>"
   ]
  },
  {
   "cell_type": "code",
   "execution_count": 3,
   "metadata": {},
   "outputs": [],
   "source": [
    "import numpy as np\n",
    "import pandas as pd\n",
    "import matplotlib.pyplot as plt\n",
    "import seaborn as sns\n",
    "import warnings\n",
    "import os\n",
    "from sklearn.tree import DecisionTreeClassifier\n",
    "from sklearn.preprocessing import scale,normalize, StandardScaler\n",
    "from sklearn.model_selection import train_test_split\n",
    "from sklearn.model_selection import GridSearchCV\n",
    "from sklearn.model_selection import RandomizedSearchCV\n",
    "from sklearn.metrics import accuracy_score, confusion_matrix, f1_score, log_loss, roc_auc_score, classification_report\n",
    "from sklearn.neighbors import KNeighborsClassifier\n",
    "warnings.filterwarnings(\"ignore\", category=FutureWarning)\n",
    "pd.set_option(\"max_rows\",1000)\n",
    "pd.set_option(\"max_columns\",100)"
   ]
  },
  {
   "cell_type": "markdown",
   "metadata": {},
   "source": [
    "<h2>About Data</h2>"
   ]
  },
  {
   "cell_type": "markdown",
   "metadata": {},
   "source": [
    "The data Contains the customer details and whether his income is above 50k or not\n",
    "\n",
    "Age  : Age of customer (Min is 17)\n",
    "\n",
    "Work Class: In which sector customer is working\n",
    "\n",
    "Education Level  : Educational qualification of the customer\n",
    "\n",
    "Education-num-Years : Total Years into Education\n",
    "\n",
    "Marital-status : Maritual Status of the customer\n",
    "\n",
    "Occupation : Occupation of the customer\n",
    "\n",
    "Relationship : Relationship of the customer\n",
    "\n",
    "Race : Black/White or other\n",
    "\n",
    "Sex : Male/Female or other\n",
    "\n",
    "Avg Hours-per-week worked : On average how many weeks customer works\n",
    "\n",
    "Income : >50k or <50k"
   ]
  },
  {
   "cell_type": "code",
   "execution_count": 49,
   "metadata": {},
   "outputs": [],
   "source": [
    "census_data_df = pd.read_excel(os.getcwd()+\"\\Census_Data_Reduced_v2.xlsx\")"
   ]
  },
  {
   "cell_type": "code",
   "execution_count": 50,
   "metadata": {},
   "outputs": [
    {
     "data": {
      "text/html": [
       "<div>\n",
       "<style scoped>\n",
       "    .dataframe tbody tr th:only-of-type {\n",
       "        vertical-align: middle;\n",
       "    }\n",
       "\n",
       "    .dataframe tbody tr th {\n",
       "        vertical-align: top;\n",
       "    }\n",
       "\n",
       "    .dataframe thead th {\n",
       "        text-align: right;\n",
       "    }\n",
       "</style>\n",
       "<table border=\"1\" class=\"dataframe\">\n",
       "  <thead>\n",
       "    <tr style=\"text-align: right;\">\n",
       "      <th></th>\n",
       "      <th>Age</th>\n",
       "      <th>Workclass</th>\n",
       "      <th>Education Level</th>\n",
       "      <th>Education-num-Years</th>\n",
       "      <th>Marital-status</th>\n",
       "      <th>Occupation</th>\n",
       "      <th>Relationship</th>\n",
       "      <th>Race</th>\n",
       "      <th>Sex</th>\n",
       "      <th>Avg Hours-per-week worked</th>\n",
       "      <th>Income</th>\n",
       "    </tr>\n",
       "  </thead>\n",
       "  <tbody>\n",
       "    <tr>\n",
       "      <th>0</th>\n",
       "      <td>30</td>\n",
       "      <td>Private</td>\n",
       "      <td>Some-college</td>\n",
       "      <td>10</td>\n",
       "      <td>Separated</td>\n",
       "      <td>Sales</td>\n",
       "      <td>Unmarried</td>\n",
       "      <td>Black</td>\n",
       "      <td>Female</td>\n",
       "      <td>16</td>\n",
       "      <td>&lt;=50K</td>\n",
       "    </tr>\n",
       "    <tr>\n",
       "      <th>1</th>\n",
       "      <td>34</td>\n",
       "      <td>Private</td>\n",
       "      <td>HS-grad</td>\n",
       "      <td>9</td>\n",
       "      <td>Never-married</td>\n",
       "      <td>Exec-managerial</td>\n",
       "      <td>Other-relative</td>\n",
       "      <td>White</td>\n",
       "      <td>Male</td>\n",
       "      <td>50</td>\n",
       "      <td>&lt;=50K</td>\n",
       "    </tr>\n",
       "    <tr>\n",
       "      <th>2</th>\n",
       "      <td>34</td>\n",
       "      <td>Private</td>\n",
       "      <td>HS-grad</td>\n",
       "      <td>9</td>\n",
       "      <td>Divorced</td>\n",
       "      <td>Machine-op-inspct</td>\n",
       "      <td>Unmarried</td>\n",
       "      <td>Black</td>\n",
       "      <td>Female</td>\n",
       "      <td>40</td>\n",
       "      <td>&lt;=50K</td>\n",
       "    </tr>\n",
       "    <tr>\n",
       "      <th>3</th>\n",
       "      <td>30</td>\n",
       "      <td>Private</td>\n",
       "      <td>Assoc-acdm</td>\n",
       "      <td>12</td>\n",
       "      <td>Divorced</td>\n",
       "      <td>Sales</td>\n",
       "      <td>Not-in-family</td>\n",
       "      <td>White</td>\n",
       "      <td>Male</td>\n",
       "      <td>52</td>\n",
       "      <td>&lt;=50K</td>\n",
       "    </tr>\n",
       "    <tr>\n",
       "      <th>4</th>\n",
       "      <td>51</td>\n",
       "      <td>Self-emp-not-inc</td>\n",
       "      <td>Some-college</td>\n",
       "      <td>10</td>\n",
       "      <td>Divorced</td>\n",
       "      <td>Craft-repair</td>\n",
       "      <td>Not-in-family</td>\n",
       "      <td>White</td>\n",
       "      <td>Male</td>\n",
       "      <td>8</td>\n",
       "      <td>&gt;50K</td>\n",
       "    </tr>\n",
       "  </tbody>\n",
       "</table>\n",
       "</div>"
      ],
      "text/plain": [
       "   Age          Workclass Education Level  Education-num-Years  \\\n",
       "0   30            Private    Some-college                   10   \n",
       "1   34            Private         HS-grad                    9   \n",
       "2   34            Private         HS-grad                    9   \n",
       "3   30            Private      Assoc-acdm                   12   \n",
       "4   51   Self-emp-not-inc    Some-college                   10   \n",
       "\n",
       "   Marital-status          Occupation     Relationship    Race      Sex  \\\n",
       "0       Separated               Sales        Unmarried   Black   Female   \n",
       "1   Never-married     Exec-managerial   Other-relative   White     Male   \n",
       "2        Divorced   Machine-op-inspct        Unmarried   Black   Female   \n",
       "3        Divorced               Sales    Not-in-family   White     Male   \n",
       "4        Divorced        Craft-repair    Not-in-family   White     Male   \n",
       "\n",
       "   Avg Hours-per-week worked  Income  \n",
       "0                         16   <=50K  \n",
       "1                         50   <=50K  \n",
       "2                         40   <=50K  \n",
       "3                         52   <=50K  \n",
       "4                          8    >50K  "
      ]
     },
     "execution_count": 50,
     "metadata": {},
     "output_type": "execute_result"
    }
   ],
   "source": [
    "census_data_df.head()"
   ]
  },
  {
   "cell_type": "code",
   "execution_count": 51,
   "metadata": {},
   "outputs": [],
   "source": [
    "census_data_df.columns=['age', 'workclass', 'education_level', 'education_num_years',\n",
    "       'marital_status', 'occupation', 'relationship', 'race', 'sex',\n",
    "       'avg_hours_per_week_worked', 'income']"
   ]
  },
  {
   "cell_type": "markdown",
   "metadata": {},
   "source": [
    "<h2>Data Imputation and Cleaning</h2>"
   ]
  },
  {
   "cell_type": "code",
   "execution_count": 52,
   "metadata": {},
   "outputs": [],
   "source": [
    "# Convert the income to class variable\n",
    "census_data_df['income_class'] =census_data_df['income'].map(lambda df: 1 if (df==' >50K') else 0).astype(int)"
   ]
  },
  {
   "cell_type": "code",
   "execution_count": 54,
   "metadata": {},
   "outputs": [
    {
     "data": {
      "text/html": [
       "<div>\n",
       "<style scoped>\n",
       "    .dataframe tbody tr th:only-of-type {\n",
       "        vertical-align: middle;\n",
       "    }\n",
       "\n",
       "    .dataframe tbody tr th {\n",
       "        vertical-align: top;\n",
       "    }\n",
       "\n",
       "    .dataframe thead th {\n",
       "        text-align: right;\n",
       "    }\n",
       "</style>\n",
       "<table border=\"1\" class=\"dataframe\">\n",
       "  <thead>\n",
       "    <tr style=\"text-align: right;\">\n",
       "      <th></th>\n",
       "      <th>age</th>\n",
       "      <th>workclass</th>\n",
       "      <th>education_level</th>\n",
       "      <th>education_num_years</th>\n",
       "      <th>marital_status</th>\n",
       "      <th>occupation</th>\n",
       "      <th>relationship</th>\n",
       "      <th>race</th>\n",
       "      <th>sex</th>\n",
       "      <th>avg_hours_per_week_worked</th>\n",
       "      <th>income</th>\n",
       "      <th>income_class</th>\n",
       "    </tr>\n",
       "  </thead>\n",
       "  <tbody>\n",
       "    <tr>\n",
       "      <th>0</th>\n",
       "      <td>30</td>\n",
       "      <td>Private</td>\n",
       "      <td>Some-college</td>\n",
       "      <td>10</td>\n",
       "      <td>Separated</td>\n",
       "      <td>Sales</td>\n",
       "      <td>Unmarried</td>\n",
       "      <td>Black</td>\n",
       "      <td>Female</td>\n",
       "      <td>16</td>\n",
       "      <td>&lt;=50K</td>\n",
       "      <td>0</td>\n",
       "    </tr>\n",
       "    <tr>\n",
       "      <th>1</th>\n",
       "      <td>34</td>\n",
       "      <td>Private</td>\n",
       "      <td>HS-grad</td>\n",
       "      <td>9</td>\n",
       "      <td>Never-married</td>\n",
       "      <td>Exec-managerial</td>\n",
       "      <td>Other-relative</td>\n",
       "      <td>White</td>\n",
       "      <td>Male</td>\n",
       "      <td>50</td>\n",
       "      <td>&lt;=50K</td>\n",
       "      <td>0</td>\n",
       "    </tr>\n",
       "    <tr>\n",
       "      <th>2</th>\n",
       "      <td>34</td>\n",
       "      <td>Private</td>\n",
       "      <td>HS-grad</td>\n",
       "      <td>9</td>\n",
       "      <td>Divorced</td>\n",
       "      <td>Machine-op-inspct</td>\n",
       "      <td>Unmarried</td>\n",
       "      <td>Black</td>\n",
       "      <td>Female</td>\n",
       "      <td>40</td>\n",
       "      <td>&lt;=50K</td>\n",
       "      <td>0</td>\n",
       "    </tr>\n",
       "    <tr>\n",
       "      <th>3</th>\n",
       "      <td>30</td>\n",
       "      <td>Private</td>\n",
       "      <td>Assoc-acdm</td>\n",
       "      <td>12</td>\n",
       "      <td>Divorced</td>\n",
       "      <td>Sales</td>\n",
       "      <td>Not-in-family</td>\n",
       "      <td>White</td>\n",
       "      <td>Male</td>\n",
       "      <td>52</td>\n",
       "      <td>&lt;=50K</td>\n",
       "      <td>0</td>\n",
       "    </tr>\n",
       "    <tr>\n",
       "      <th>4</th>\n",
       "      <td>51</td>\n",
       "      <td>Self-emp-not-inc</td>\n",
       "      <td>Some-college</td>\n",
       "      <td>10</td>\n",
       "      <td>Divorced</td>\n",
       "      <td>Craft-repair</td>\n",
       "      <td>Not-in-family</td>\n",
       "      <td>White</td>\n",
       "      <td>Male</td>\n",
       "      <td>8</td>\n",
       "      <td>&gt;50K</td>\n",
       "      <td>1</td>\n",
       "    </tr>\n",
       "  </tbody>\n",
       "</table>\n",
       "</div>"
      ],
      "text/plain": [
       "   age         workclass education_level  education_num_years marital_status  \\\n",
       "0   30           Private    Some-college                   10      Separated   \n",
       "1   34           Private         HS-grad                    9  Never-married   \n",
       "2   34           Private         HS-grad                    9       Divorced   \n",
       "3   30           Private      Assoc-acdm                   12       Divorced   \n",
       "4   51  Self-emp-not-inc    Some-college                   10       Divorced   \n",
       "\n",
       "          occupation    relationship   race     sex  \\\n",
       "0              Sales       Unmarried  Black  Female   \n",
       "1    Exec-managerial  Other-relative  White    Male   \n",
       "2  Machine-op-inspct       Unmarried  Black  Female   \n",
       "3              Sales   Not-in-family  White    Male   \n",
       "4       Craft-repair   Not-in-family  White    Male   \n",
       "\n",
       "   avg_hours_per_week_worked income  income_class  \n",
       "0                         16  <=50K             0  \n",
       "1                         50  <=50K             0  \n",
       "2                         40  <=50K             0  \n",
       "3                         52  <=50K             0  \n",
       "4                          8   >50K             1  "
      ]
     },
     "execution_count": 54,
     "metadata": {},
     "output_type": "execute_result"
    }
   ],
   "source": [
    "census_data_df.head()"
   ]
  },
  {
   "cell_type": "code",
   "execution_count": 53,
   "metadata": {},
   "outputs": [],
   "source": [
    "# We can see some junk data in workclass and cccupation, so lets clean it before moving ahead\n",
    "census_data_df = census_data_df.apply(lambda x: x.str.strip() if x.dtype == \"object\" else x)\n",
    "census_data_df.loc[lambda df: df.workclass=='?',['workclass','occupation']]='NA'\n",
    "census_data_df = census_data_df.apply(lambda x: x.str.lower().replace('-','_') if x.dtype == \"object\" else x)"
   ]
  },
  {
   "cell_type": "code",
   "execution_count": 67,
   "metadata": {},
   "outputs": [
    {
     "data": {
      "text/plain": [
       "education_level  education_num_years\n",
       "10th             6                       249\n",
       "11th             7                       331\n",
       "12th             8                       136\n",
       "1st_4th          2                        42\n",
       "5th_6th          3                        84\n",
       "7th_8th          4                       166\n",
       "9th              5                       138\n",
       "assoc_acdm       12                      285\n",
       "assoc_voc        11                      382\n",
       "bachelors        13                     1483\n",
       "doctorate        16                      116\n",
       "hs_grad          9                      2902\n",
       "masters          14                      471\n",
       "preschool        1                         6\n",
       "prof_school      15                      178\n",
       "some_college     10                     2030\n",
       "Name: education_num_years, dtype: int64"
      ]
     },
     "execution_count": 67,
     "metadata": {},
     "output_type": "execute_result"
    }
   ],
   "source": [
    "census_data_df.groupby(['education_level','education_num_years'])['education_num_years'].count()"
   ]
  },
  {
   "cell_type": "markdown",
   "metadata": {},
   "source": [
    "<b>Analysis</b>\n",
    "\n",
    "The Numerical value of the education_level is education_num_years, since no need to use the education_level column or neither encoding is not required for this,hence removing this column"
   ]
  },
  {
   "cell_type": "markdown",
   "metadata": {},
   "source": [
    "<h2>Data Description</h2>"
   ]
  },
  {
   "cell_type": "code",
   "execution_count": 69,
   "metadata": {},
   "outputs": [
    {
     "data": {
      "text/html": [
       "<div>\n",
       "<style scoped>\n",
       "    .dataframe tbody tr th:only-of-type {\n",
       "        vertical-align: middle;\n",
       "    }\n",
       "\n",
       "    .dataframe tbody tr th {\n",
       "        vertical-align: top;\n",
       "    }\n",
       "\n",
       "    .dataframe thead th {\n",
       "        text-align: right;\n",
       "    }\n",
       "</style>\n",
       "<table border=\"1\" class=\"dataframe\">\n",
       "  <thead>\n",
       "    <tr style=\"text-align: right;\">\n",
       "      <th></th>\n",
       "      <th>age</th>\n",
       "      <th>education_num_years</th>\n",
       "      <th>avg_hours_per_week_worked</th>\n",
       "      <th>income_class</th>\n",
       "    </tr>\n",
       "  </thead>\n",
       "  <tbody>\n",
       "    <tr>\n",
       "      <th>count</th>\n",
       "      <td>8999.000000</td>\n",
       "      <td>8999.000000</td>\n",
       "      <td>8999.000000</td>\n",
       "      <td>8999.000000</td>\n",
       "    </tr>\n",
       "    <tr>\n",
       "      <th>mean</th>\n",
       "      <td>38.564729</td>\n",
       "      <td>10.116013</td>\n",
       "      <td>40.325258</td>\n",
       "      <td>0.245027</td>\n",
       "    </tr>\n",
       "    <tr>\n",
       "      <th>std</th>\n",
       "      <td>13.654332</td>\n",
       "      <td>2.539637</td>\n",
       "      <td>12.253032</td>\n",
       "      <td>0.430127</td>\n",
       "    </tr>\n",
       "    <tr>\n",
       "      <th>min</th>\n",
       "      <td>17.000000</td>\n",
       "      <td>1.000000</td>\n",
       "      <td>1.000000</td>\n",
       "      <td>0.000000</td>\n",
       "    </tr>\n",
       "    <tr>\n",
       "      <th>25%</th>\n",
       "      <td>28.000000</td>\n",
       "      <td>9.000000</td>\n",
       "      <td>40.000000</td>\n",
       "      <td>0.000000</td>\n",
       "    </tr>\n",
       "    <tr>\n",
       "      <th>50%</th>\n",
       "      <td>37.000000</td>\n",
       "      <td>10.000000</td>\n",
       "      <td>40.000000</td>\n",
       "      <td>0.000000</td>\n",
       "    </tr>\n",
       "    <tr>\n",
       "      <th>75%</th>\n",
       "      <td>47.000000</td>\n",
       "      <td>12.000000</td>\n",
       "      <td>45.000000</td>\n",
       "      <td>0.000000</td>\n",
       "    </tr>\n",
       "    <tr>\n",
       "      <th>max</th>\n",
       "      <td>90.000000</td>\n",
       "      <td>16.000000</td>\n",
       "      <td>99.000000</td>\n",
       "      <td>1.000000</td>\n",
       "    </tr>\n",
       "  </tbody>\n",
       "</table>\n",
       "</div>"
      ],
      "text/plain": [
       "               age  education_num_years  avg_hours_per_week_worked  \\\n",
       "count  8999.000000          8999.000000                8999.000000   \n",
       "mean     38.564729            10.116013                  40.325258   \n",
       "std      13.654332             2.539637                  12.253032   \n",
       "min      17.000000             1.000000                   1.000000   \n",
       "25%      28.000000             9.000000                  40.000000   \n",
       "50%      37.000000            10.000000                  40.000000   \n",
       "75%      47.000000            12.000000                  45.000000   \n",
       "max      90.000000            16.000000                  99.000000   \n",
       "\n",
       "       income_class  \n",
       "count   8999.000000  \n",
       "mean       0.245027  \n",
       "std        0.430127  \n",
       "min        0.000000  \n",
       "25%        0.000000  \n",
       "50%        0.000000  \n",
       "75%        0.000000  \n",
       "max        1.000000  "
      ]
     },
     "execution_count": 69,
     "metadata": {},
     "output_type": "execute_result"
    }
   ],
   "source": [
    "census_data_df.describe()"
   ]
  },
  {
   "cell_type": "markdown",
   "metadata": {},
   "source": [
    "<b>Analysis</b>\n",
    "\n",
    "The average age is 38 and education is 10th\n",
    "\n",
    "The average hours worked per week is 40 hours"
   ]
  },
  {
   "cell_type": "markdown",
   "metadata": {},
   "source": [
    "<h2>Data Balanncing check</h2>"
   ]
  },
  {
   "cell_type": "code",
   "execution_count": 71,
   "metadata": {},
   "outputs": [
    {
     "data": {
      "text/plain": [
       "<matplotlib.axes._subplots.AxesSubplot at 0x24bf83b1278>"
      ]
     },
     "execution_count": 71,
     "metadata": {},
     "output_type": "execute_result"
    },
    {
     "data": {
      "image/png": "[encoded data removed]",
      "text/plain": [
       "<Figure size 432x288 with 1 Axes>"
      ]
     },
     "metadata": {
      "needs_background": "light"
     },
     "output_type": "display_data"
    }
   ],
   "source": [
    "census_data_df['income_class'].value_counts().plot(kind='bar')"
   ]
  },
  {
   "cell_type": "markdown",
   "metadata": {},
   "source": [
    "<b>Analysis</b>\n",
    "\n",
    "The Customers with >50k income are ~2300 whereas customers with <=50k are 6500, we can see the clear data imbalance, this could bias our results"
   ]
  },
  {
   "cell_type": "markdown",
   "metadata": {},
   "source": [
    "<h2>Data Modelling</h2>"
   ]
  },
  {
   "cell_type": "code",
   "execution_count": 86,
   "metadata": {},
   "outputs": [],
   "source": [
    "#Some useful functions\n",
    "def plot_confusion_matrix(test_y, predict_y):\n",
    "        test_y = test_y.astype(int)\n",
    "        predict_y = predict_y.astype(int)\n",
    "        C = confusion_matrix(test_y, predict_y)\n",
    "        C = C.astype(int)\n",
    "        labels = ['0','1']\n",
    "        print(\"-\"*20, \"Confusion matrix\", \"-\"*20)\n",
    "        plt.figure(figsize=(15,7))\n",
    "        sns.heatmap(C, annot=True, cmap=\"YlGnBu\", fmt=\".0f\", xticklabels=labels, yticklabels=labels)\n",
    "        plt.xlabel('Predicted Class')\n",
    "        plt.ylabel('Original Class')\n",
    "        plt.show()\n",
    "\n",
    "#Hyperparameter tuning the model (Non tree models)\n",
    "def tuning(model, parameters, parameter_name, train_data_x, train_data_y, plot_values,is_multi=False):\n",
    "    grid = GridSearchCV(model, parameters, cv = 3, scoring = 'f1_macro',return_train_score=True)\n",
    "    grid.fit(train_data_x, train_data_y)\n",
    "    results = pd.DataFrame(grid.cv_results_)           #storing results of gridseachcv in a dataframe to access its elements\n",
    "    params = results['params']                         #storing combination of parameters used by model in params\n",
    "    score_tr_array = results['mean_train_score']         #storing scores on train data of model\n",
    "    score_cv_array = results['mean_test_score']          #storing scores on cv data of model\n",
    "    for i in range(len(params)):\n",
    "        print(\"For\", params[i],\" acc of Train data is\", score_tr_array[i],\"and acc of CV data is\", score_cv_array[i])\n",
    "    print('Best Parameter is ',  grid.best_params_)\n",
    "    print('Best F1 Score is ',  grid.best_score_)\n",
    "    if not is_multi:\n",
    "        plt.xlabel(parameter_name)\n",
    "        plt.title('Cross Validation')\n",
    "        plt.plot(plot_values,grid.cv_results_['mean_train_score'])\n",
    "        plt.plot(plot_values,grid.cv_results_['mean_test_score'])\n",
    "        plt.legend(['Train Accuracy', 'CV Accuracy'])\n",
    "        plt.show()\n",
    "    return grid.best_params_\n",
    "\n",
    "def tuning_random(model, parameters, parameter_name, train_data_x, train_data_y, plot_values,is_multi=False,extra_params={},model_tags=[]):\n",
    "        grid = RandomizedSearchCV(model, parameters, cv = 3,n_jobs=-1,scoring = 'f1_macro',refit=True,return_train_score=True)\n",
    "        if extra_params=={}:\n",
    "            grid.fit(train_data_x, train_data_y)\n",
    "        else:\n",
    "            grid.fit(train_data_x, train_data_y,**extra_params)\n",
    "        print('Training Completed')  \n",
    "\n",
    " \n",
    "\n",
    "        results = pd.DataFrame(grid.cv_results_)           #storing results of gridseachcv in a dataframe to access its elements\n",
    "        params = results['params']                         #storing combination of parameters used by model in params\n",
    "        score_tr_array = results['mean_train_score']         #storing scores on train data of model\n",
    "        score_cv_array = results['mean_test_score']          #storing scores on cv data of model\n",
    "    #     for i in range(len(params)):\n",
    "    #         print(\"For\", params[i],\" acc of Train data is\", score_tr_array[i],\"and acc of CV data is\", score_cv_array[i])\n",
    "        print('Best Parameter is ',  grid.best_params_)\n",
    "        print('Best F1 Score is ',  grid.best_score_)\n",
    "        if not is_multi:\n",
    "            plt.xlabel(parameter_name)\n",
    "            plt.title('Cross Validation')\n",
    "            plt.plot(np.log10(plot_values),grid.cv_results_['mean_train_score'])\n",
    "            plt.plot(np.log10(plot_values),grid.cv_results_['mean_test_score'])\n",
    "            plt.legend(['Train Accuracy', 'CV Accuracy'])\n",
    "            plt.show()\n",
    "        return grid.best_params_"
   ]
  },
  {
   "cell_type": "markdown",
   "metadata": {},
   "source": [
    "<h2>Data Encoding</h2>"
   ]
  },
  {
   "cell_type": "code",
   "execution_count": 75,
   "metadata": {},
   "outputs": [],
   "source": [
    "#One hot encoding the categorical data\n",
    "census_encoded_df = pd.concat([census_data_df['age'],census_data_df['education_num_years'],census_data_df['avg_hours_per_week_worked'],pd.get_dummies(census_data_df['workclass'], prefix='workclass'),\\\n",
    "pd.get_dummies(census_data_df['marital_status'], prefix='marital_status'),\\\n",
    "pd.get_dummies(census_data_df['occupation'], prefix='occupation'),\\\n",
    "pd.get_dummies(census_data_df['relationship'], prefix='relationship'),\\\n",
    "pd.get_dummies(census_data_df['race'], prefix='race'),\\\n",
    "pd.get_dummies(census_data_df['sex'], prefix='sex')],axis=1)"
   ]
  },
  {
   "cell_type": "markdown",
   "metadata": {},
   "source": [
    "<h3>Data Splitting</h3>"
   ]
  },
  {
   "cell_type": "code",
   "execution_count": 141,
   "metadata": {},
   "outputs": [],
   "source": [
    "x_train, x_test, y_train, y_test = train_test_split(census_encoded_df, census_data_df['income_class'],\n",
    "                                                    test_size=0.3,\n",
    "                                                    random_state=0,\n",
    "                                                    stratify=census_data_df[['income_class']])"
   ]
  },
  {
   "cell_type": "markdown",
   "metadata": {},
   "source": [
    "<h3>KNN Modelling</h3>"
   ]
  },
  {
   "cell_type": "code",
   "execution_count": 137,
   "metadata": {},
   "outputs": [
    {
     "name": "stdout",
     "output_type": "stream",
     "text": [
      "For {'n_neighbors': 3}  acc of Train data is 0.8361334944742405 and acc of CV data is 0.7047785053864614\n",
      "For {'n_neighbors': 5}  acc of Train data is 0.7956467646208788 and acc of CV data is 0.7169456238868371\n",
      "For {'n_neighbors': 7}  acc of Train data is 0.7776782017568857 and acc of CV data is 0.7105002801122694\n",
      "For {'n_neighbors': 9}  acc of Train data is 0.7642675366455939 and acc of CV data is 0.7121962368688565\n",
      "For {'n_neighbors': 11}  acc of Train data is 0.7525457918734967 and acc of CV data is 0.7055659883432108\n",
      "For {'n_neighbors': 13}  acc of Train data is 0.7515348022546245 and acc of CV data is 0.7070246341915313\n",
      "For {'n_neighbors': 15}  acc of Train data is 0.7451492397316395 and acc of CV data is 0.7025660426667368\n",
      "For {'n_neighbors': 17}  acc of Train data is 0.7385462888812017 and acc of CV data is 0.7068623695543872\n",
      "For {'n_neighbors': 19}  acc of Train data is 0.7357990329767109 and acc of CV data is 0.7056598458746922\n",
      "For {'n_neighbors': 21}  acc of Train data is 0.735602749908813 and acc of CV data is 0.7083298503176421\n",
      "Best Parameter is  {'n_neighbors': 5}\n",
      "Best F1 Score is  0.7169456238868371\n"
     ]
    },
    {
     "data": {
      "image/png": "[encoded data removed]",
      "text/plain": [
       "<Figure size 432x288 with 1 Axes>"
      ]
     },
     "metadata": {
      "needs_background": "light"
     },
     "output_type": "display_data"
    }
   ],
   "source": [
    "#To avoid overfitting, we used hyper parameter tuning along with 3 fold cross validations\n",
    "model = KNeighborsClassifier()\n",
    "k = [3,5,7,9,11,13,15,17,19,21]\n",
    "k_vals = {'n_neighbors' : k}\n",
    "best_params = tuning(model, k_vals, 'n_neighbors', x_train, y_train, k)"
   ]
  },
  {
   "cell_type": "code",
   "execution_count": 142,
   "metadata": {},
   "outputs": [],
   "source": [
    "best_k = best_params['n_neighbors']\n",
    "knn_clf = KNeighborsClassifier(n_neighbors=best_k).fit(x_train, y_train)\n",
    "y_pred_knn = knn_clf.predict(x_test)\n",
    "y_pred_proba_knn = knn_clf.predict_proba(x_test)"
   ]
  },
  {
   "cell_type": "code",
   "execution_count": 146,
   "metadata": {},
   "outputs": [
    {
     "data": {
      "text/plain": [
       "array([0.8, 1. , 0.6, ..., 0.6, 0.6, 0.6])"
      ]
     },
     "execution_count": 146,
     "metadata": {},
     "output_type": "execute_result"
    }
   ],
   "source": [
    "y_pred_proba_knn.max(axis=1)"
   ]
  },
  {
   "cell_type": "code",
   "execution_count": 147,
   "metadata": {},
   "outputs": [],
   "source": [
    "census_data_df['prediction'] = knn_clf.predict(census_encoded_df)\n",
    "census_data_df['confidence'] = knn_clf.predict_proba(census_encoded_df).max(axis=1)"
   ]
  },
  {
   "cell_type": "code",
   "execution_count": 148,
   "metadata": {},
   "outputs": [
    {
     "data": {
      "text/html": [
       "<style  type=\"text/css\" >\n",
       "    #T_8c30ca76_2b4f_11eb_9588_34e12db8514a th {\n",
       "          font-size: 11px;\n",
       "          text-align: center;\n",
       "          font-weight: bold;\n",
       "          color: #6d6d6d;\n",
       "          background-color: #f7f7f9;\n",
       "    }    #T_8c30ca76_2b4f_11eb_9588_34e12db8514a td {\n",
       "          font-size: 11px;\n",
       "    }#T_8c30ca76_2b4f_11eb_9588_34e12db8514arow0_col11,#T_8c30ca76_2b4f_11eb_9588_34e12db8514arow0_col12,#T_8c30ca76_2b4f_11eb_9588_34e12db8514arow1_col11,#T_8c30ca76_2b4f_11eb_9588_34e12db8514arow1_col12,#T_8c30ca76_2b4f_11eb_9588_34e12db8514arow2_col11,#T_8c30ca76_2b4f_11eb_9588_34e12db8514arow2_col12,#T_8c30ca76_2b4f_11eb_9588_34e12db8514arow3_col11,#T_8c30ca76_2b4f_11eb_9588_34e12db8514arow3_col13,#T_8c30ca76_2b4f_11eb_9588_34e12db8514arow4_col13,#T_8c30ca76_2b4f_11eb_9588_34e12db8514arow5_col11,#T_8c30ca76_2b4f_11eb_9588_34e12db8514arow5_col12,#T_8c30ca76_2b4f_11eb_9588_34e12db8514arow6_col11,#T_8c30ca76_2b4f_11eb_9588_34e12db8514arow6_col12,#T_8c30ca76_2b4f_11eb_9588_34e12db8514arow7_col11,#T_8c30ca76_2b4f_11eb_9588_34e12db8514arow7_col12,#T_8c30ca76_2b4f_11eb_9588_34e12db8514arow8_col11,#T_8c30ca76_2b4f_11eb_9588_34e12db8514arow8_col12,#T_8c30ca76_2b4f_11eb_9588_34e12db8514arow9_col11,#T_8c30ca76_2b4f_11eb_9588_34e12db8514arow9_col12{\n",
       "            background-color:  #e5ffe5;\n",
       "            color:  #000000;\n",
       "        }#T_8c30ca76_2b4f_11eb_9588_34e12db8514arow0_col13,#T_8c30ca76_2b4f_11eb_9588_34e12db8514arow1_col13,#T_8c30ca76_2b4f_11eb_9588_34e12db8514arow5_col13,#T_8c30ca76_2b4f_11eb_9588_34e12db8514arow6_col13,#T_8c30ca76_2b4f_11eb_9588_34e12db8514arow7_col13,#T_8c30ca76_2b4f_11eb_9588_34e12db8514arow8_col13{\n",
       "            background-color:  #72bf72;\n",
       "            color:  #000000;\n",
       "        }#T_8c30ca76_2b4f_11eb_9588_34e12db8514arow2_col13,#T_8c30ca76_2b4f_11eb_9588_34e12db8514arow3_col12,#T_8c30ca76_2b4f_11eb_9588_34e12db8514arow4_col11,#T_8c30ca76_2b4f_11eb_9588_34e12db8514arow4_col12,#T_8c30ca76_2b4f_11eb_9588_34e12db8514arow9_col13{\n",
       "            background-color:  #008000;\n",
       "            color:  #f1f1f1;\n",
       "        }</style><table id=\"T_8c30ca76_2b4f_11eb_9588_34e12db8514a\" ><caption>KNN Prediction</caption><thead>    <tr>        <th class=\"blank level0\" ></th>        <th class=\"col_heading level0 col0\" >age</th>        <th class=\"col_heading level0 col1\" >workclass</th>        <th class=\"col_heading level0 col2\" >education_level</th>        <th class=\"col_heading level0 col3\" >education_num_years</th>        <th class=\"col_heading level0 col4\" >marital_status</th>        <th class=\"col_heading level0 col5\" >occupation</th>        <th class=\"col_heading level0 col6\" >relationship</th>        <th class=\"col_heading level0 col7\" >race</th>        <th class=\"col_heading level0 col8\" >sex</th>        <th class=\"col_heading level0 col9\" >avg_hours_per_week_worked</th>        <th class=\"col_heading level0 col10\" >income</th>        <th class=\"col_heading level0 col11\" >income_class</th>        <th class=\"col_heading level0 col12\" >prediction</th>        <th class=\"col_heading level0 col13\" >confidence</th>    </tr></thead><tbody>\n",
       "                <tr>\n",
       "                        <th id=\"T_8c30ca76_2b4f_11eb_9588_34e12db8514alevel0_row0\" class=\"row_heading level0 row0\" >0</th>\n",
       "                        <td id=\"T_8c30ca76_2b4f_11eb_9588_34e12db8514arow0_col0\" class=\"data row0 col0\" >30</td>\n",
       "                        <td id=\"T_8c30ca76_2b4f_11eb_9588_34e12db8514arow0_col1\" class=\"data row0 col1\" >private</td>\n",
       "                        <td id=\"T_8c30ca76_2b4f_11eb_9588_34e12db8514arow0_col2\" class=\"data row0 col2\" >some_college</td>\n",
       "                        <td id=\"T_8c30ca76_2b4f_11eb_9588_34e12db8514arow0_col3\" class=\"data row0 col3\" >10</td>\n",
       "                        <td id=\"T_8c30ca76_2b4f_11eb_9588_34e12db8514arow0_col4\" class=\"data row0 col4\" >separated</td>\n",
       "                        <td id=\"T_8c30ca76_2b4f_11eb_9588_34e12db8514arow0_col5\" class=\"data row0 col5\" >sales</td>\n",
       "                        <td id=\"T_8c30ca76_2b4f_11eb_9588_34e12db8514arow0_col6\" class=\"data row0 col6\" >unmarried</td>\n",
       "                        <td id=\"T_8c30ca76_2b4f_11eb_9588_34e12db8514arow0_col7\" class=\"data row0 col7\" >black</td>\n",
       "                        <td id=\"T_8c30ca76_2b4f_11eb_9588_34e12db8514arow0_col8\" class=\"data row0 col8\" >female</td>\n",
       "                        <td id=\"T_8c30ca76_2b4f_11eb_9588_34e12db8514arow0_col9\" class=\"data row0 col9\" >16</td>\n",
       "                        <td id=\"T_8c30ca76_2b4f_11eb_9588_34e12db8514arow0_col10\" class=\"data row0 col10\" ><=50k</td>\n",
       "                        <td id=\"T_8c30ca76_2b4f_11eb_9588_34e12db8514arow0_col11\" class=\"data row0 col11\" >0</td>\n",
       "                        <td id=\"T_8c30ca76_2b4f_11eb_9588_34e12db8514arow0_col12\" class=\"data row0 col12\" >0</td>\n",
       "                        <td id=\"T_8c30ca76_2b4f_11eb_9588_34e12db8514arow0_col13\" class=\"data row0 col13\" >0.800000</td>\n",
       "            </tr>\n",
       "            <tr>\n",
       "                        <th id=\"T_8c30ca76_2b4f_11eb_9588_34e12db8514alevel0_row1\" class=\"row_heading level0 row1\" >1</th>\n",
       "                        <td id=\"T_8c30ca76_2b4f_11eb_9588_34e12db8514arow1_col0\" class=\"data row1 col0\" >34</td>\n",
       "                        <td id=\"T_8c30ca76_2b4f_11eb_9588_34e12db8514arow1_col1\" class=\"data row1 col1\" >private</td>\n",
       "                        <td id=\"T_8c30ca76_2b4f_11eb_9588_34e12db8514arow1_col2\" class=\"data row1 col2\" >hs_grad</td>\n",
       "                        <td id=\"T_8c30ca76_2b4f_11eb_9588_34e12db8514arow1_col3\" class=\"data row1 col3\" >9</td>\n",
       "                        <td id=\"T_8c30ca76_2b4f_11eb_9588_34e12db8514arow1_col4\" class=\"data row1 col4\" >never_married</td>\n",
       "                        <td id=\"T_8c30ca76_2b4f_11eb_9588_34e12db8514arow1_col5\" class=\"data row1 col5\" >exec_managerial</td>\n",
       "                        <td id=\"T_8c30ca76_2b4f_11eb_9588_34e12db8514arow1_col6\" class=\"data row1 col6\" >other_relative</td>\n",
       "                        <td id=\"T_8c30ca76_2b4f_11eb_9588_34e12db8514arow1_col7\" class=\"data row1 col7\" >white</td>\n",
       "                        <td id=\"T_8c30ca76_2b4f_11eb_9588_34e12db8514arow1_col8\" class=\"data row1 col8\" >male</td>\n",
       "                        <td id=\"T_8c30ca76_2b4f_11eb_9588_34e12db8514arow1_col9\" class=\"data row1 col9\" >50</td>\n",
       "                        <td id=\"T_8c30ca76_2b4f_11eb_9588_34e12db8514arow1_col10\" class=\"data row1 col10\" ><=50k</td>\n",
       "                        <td id=\"T_8c30ca76_2b4f_11eb_9588_34e12db8514arow1_col11\" class=\"data row1 col11\" >0</td>\n",
       "                        <td id=\"T_8c30ca76_2b4f_11eb_9588_34e12db8514arow1_col12\" class=\"data row1 col12\" >0</td>\n",
       "                        <td id=\"T_8c30ca76_2b4f_11eb_9588_34e12db8514arow1_col13\" class=\"data row1 col13\" >0.800000</td>\n",
       "            </tr>\n",
       "            <tr>\n",
       "                        <th id=\"T_8c30ca76_2b4f_11eb_9588_34e12db8514alevel0_row2\" class=\"row_heading level0 row2\" >2</th>\n",
       "                        <td id=\"T_8c30ca76_2b4f_11eb_9588_34e12db8514arow2_col0\" class=\"data row2 col0\" >34</td>\n",
       "                        <td id=\"T_8c30ca76_2b4f_11eb_9588_34e12db8514arow2_col1\" class=\"data row2 col1\" >private</td>\n",
       "                        <td id=\"T_8c30ca76_2b4f_11eb_9588_34e12db8514arow2_col2\" class=\"data row2 col2\" >hs_grad</td>\n",
       "                        <td id=\"T_8c30ca76_2b4f_11eb_9588_34e12db8514arow2_col3\" class=\"data row2 col3\" >9</td>\n",
       "                        <td id=\"T_8c30ca76_2b4f_11eb_9588_34e12db8514arow2_col4\" class=\"data row2 col4\" >divorced</td>\n",
       "                        <td id=\"T_8c30ca76_2b4f_11eb_9588_34e12db8514arow2_col5\" class=\"data row2 col5\" >machine_op_inspct</td>\n",
       "                        <td id=\"T_8c30ca76_2b4f_11eb_9588_34e12db8514arow2_col6\" class=\"data row2 col6\" >unmarried</td>\n",
       "                        <td id=\"T_8c30ca76_2b4f_11eb_9588_34e12db8514arow2_col7\" class=\"data row2 col7\" >black</td>\n",
       "                        <td id=\"T_8c30ca76_2b4f_11eb_9588_34e12db8514arow2_col8\" class=\"data row2 col8\" >female</td>\n",
       "                        <td id=\"T_8c30ca76_2b4f_11eb_9588_34e12db8514arow2_col9\" class=\"data row2 col9\" >40</td>\n",
       "                        <td id=\"T_8c30ca76_2b4f_11eb_9588_34e12db8514arow2_col10\" class=\"data row2 col10\" ><=50k</td>\n",
       "                        <td id=\"T_8c30ca76_2b4f_11eb_9588_34e12db8514arow2_col11\" class=\"data row2 col11\" >0</td>\n",
       "                        <td id=\"T_8c30ca76_2b4f_11eb_9588_34e12db8514arow2_col12\" class=\"data row2 col12\" >0</td>\n",
       "                        <td id=\"T_8c30ca76_2b4f_11eb_9588_34e12db8514arow2_col13\" class=\"data row2 col13\" >1.000000</td>\n",
       "            </tr>\n",
       "            <tr>\n",
       "                        <th id=\"T_8c30ca76_2b4f_11eb_9588_34e12db8514alevel0_row3\" class=\"row_heading level0 row3\" >3</th>\n",
       "                        <td id=\"T_8c30ca76_2b4f_11eb_9588_34e12db8514arow3_col0\" class=\"data row3 col0\" >30</td>\n",
       "                        <td id=\"T_8c30ca76_2b4f_11eb_9588_34e12db8514arow3_col1\" class=\"data row3 col1\" >private</td>\n",
       "                        <td id=\"T_8c30ca76_2b4f_11eb_9588_34e12db8514arow3_col2\" class=\"data row3 col2\" >assoc_acdm</td>\n",
       "                        <td id=\"T_8c30ca76_2b4f_11eb_9588_34e12db8514arow3_col3\" class=\"data row3 col3\" >12</td>\n",
       "                        <td id=\"T_8c30ca76_2b4f_11eb_9588_34e12db8514arow3_col4\" class=\"data row3 col4\" >divorced</td>\n",
       "                        <td id=\"T_8c30ca76_2b4f_11eb_9588_34e12db8514arow3_col5\" class=\"data row3 col5\" >sales</td>\n",
       "                        <td id=\"T_8c30ca76_2b4f_11eb_9588_34e12db8514arow3_col6\" class=\"data row3 col6\" >not_in_family</td>\n",
       "                        <td id=\"T_8c30ca76_2b4f_11eb_9588_34e12db8514arow3_col7\" class=\"data row3 col7\" >white</td>\n",
       "                        <td id=\"T_8c30ca76_2b4f_11eb_9588_34e12db8514arow3_col8\" class=\"data row3 col8\" >male</td>\n",
       "                        <td id=\"T_8c30ca76_2b4f_11eb_9588_34e12db8514arow3_col9\" class=\"data row3 col9\" >52</td>\n",
       "                        <td id=\"T_8c30ca76_2b4f_11eb_9588_34e12db8514arow3_col10\" class=\"data row3 col10\" ><=50k</td>\n",
       "                        <td id=\"T_8c30ca76_2b4f_11eb_9588_34e12db8514arow3_col11\" class=\"data row3 col11\" >0</td>\n",
       "                        <td id=\"T_8c30ca76_2b4f_11eb_9588_34e12db8514arow3_col12\" class=\"data row3 col12\" >1</td>\n",
       "                        <td id=\"T_8c30ca76_2b4f_11eb_9588_34e12db8514arow3_col13\" class=\"data row3 col13\" >0.600000</td>\n",
       "            </tr>\n",
       "            <tr>\n",
       "                        <th id=\"T_8c30ca76_2b4f_11eb_9588_34e12db8514alevel0_row4\" class=\"row_heading level0 row4\" >4</th>\n",
       "                        <td id=\"T_8c30ca76_2b4f_11eb_9588_34e12db8514arow4_col0\" class=\"data row4 col0\" >51</td>\n",
       "                        <td id=\"T_8c30ca76_2b4f_11eb_9588_34e12db8514arow4_col1\" class=\"data row4 col1\" >self_emp_not_inc</td>\n",
       "                        <td id=\"T_8c30ca76_2b4f_11eb_9588_34e12db8514arow4_col2\" class=\"data row4 col2\" >some_college</td>\n",
       "                        <td id=\"T_8c30ca76_2b4f_11eb_9588_34e12db8514arow4_col3\" class=\"data row4 col3\" >10</td>\n",
       "                        <td id=\"T_8c30ca76_2b4f_11eb_9588_34e12db8514arow4_col4\" class=\"data row4 col4\" >divorced</td>\n",
       "                        <td id=\"T_8c30ca76_2b4f_11eb_9588_34e12db8514arow4_col5\" class=\"data row4 col5\" >craft_repair</td>\n",
       "                        <td id=\"T_8c30ca76_2b4f_11eb_9588_34e12db8514arow4_col6\" class=\"data row4 col6\" >not_in_family</td>\n",
       "                        <td id=\"T_8c30ca76_2b4f_11eb_9588_34e12db8514arow4_col7\" class=\"data row4 col7\" >white</td>\n",
       "                        <td id=\"T_8c30ca76_2b4f_11eb_9588_34e12db8514arow4_col8\" class=\"data row4 col8\" >male</td>\n",
       "                        <td id=\"T_8c30ca76_2b4f_11eb_9588_34e12db8514arow4_col9\" class=\"data row4 col9\" >8</td>\n",
       "                        <td id=\"T_8c30ca76_2b4f_11eb_9588_34e12db8514arow4_col10\" class=\"data row4 col10\" >>50k</td>\n",
       "                        <td id=\"T_8c30ca76_2b4f_11eb_9588_34e12db8514arow4_col11\" class=\"data row4 col11\" >1</td>\n",
       "                        <td id=\"T_8c30ca76_2b4f_11eb_9588_34e12db8514arow4_col12\" class=\"data row4 col12\" >1</td>\n",
       "                        <td id=\"T_8c30ca76_2b4f_11eb_9588_34e12db8514arow4_col13\" class=\"data row4 col13\" >0.600000</td>\n",
       "            </tr>\n",
       "            <tr>\n",
       "                        <th id=\"T_8c30ca76_2b4f_11eb_9588_34e12db8514alevel0_row5\" class=\"row_heading level0 row5\" >5</th>\n",
       "                        <td id=\"T_8c30ca76_2b4f_11eb_9588_34e12db8514arow5_col0\" class=\"data row5 col0\" >90</td>\n",
       "                        <td id=\"T_8c30ca76_2b4f_11eb_9588_34e12db8514arow5_col1\" class=\"data row5 col1\" >private</td>\n",
       "                        <td id=\"T_8c30ca76_2b4f_11eb_9588_34e12db8514arow5_col2\" class=\"data row5 col2\" >hs_grad</td>\n",
       "                        <td id=\"T_8c30ca76_2b4f_11eb_9588_34e12db8514arow5_col3\" class=\"data row5 col3\" >9</td>\n",
       "                        <td id=\"T_8c30ca76_2b4f_11eb_9588_34e12db8514arow5_col4\" class=\"data row5 col4\" >never_married</td>\n",
       "                        <td id=\"T_8c30ca76_2b4f_11eb_9588_34e12db8514arow5_col5\" class=\"data row5 col5\" >other_service</td>\n",
       "                        <td id=\"T_8c30ca76_2b4f_11eb_9588_34e12db8514arow5_col6\" class=\"data row5 col6\" >not_in_family</td>\n",
       "                        <td id=\"T_8c30ca76_2b4f_11eb_9588_34e12db8514arow5_col7\" class=\"data row5 col7\" >black</td>\n",
       "                        <td id=\"T_8c30ca76_2b4f_11eb_9588_34e12db8514arow5_col8\" class=\"data row5 col8\" >male</td>\n",
       "                        <td id=\"T_8c30ca76_2b4f_11eb_9588_34e12db8514arow5_col9\" class=\"data row5 col9\" >40</td>\n",
       "                        <td id=\"T_8c30ca76_2b4f_11eb_9588_34e12db8514arow5_col10\" class=\"data row5 col10\" ><=50k</td>\n",
       "                        <td id=\"T_8c30ca76_2b4f_11eb_9588_34e12db8514arow5_col11\" class=\"data row5 col11\" >0</td>\n",
       "                        <td id=\"T_8c30ca76_2b4f_11eb_9588_34e12db8514arow5_col12\" class=\"data row5 col12\" >0</td>\n",
       "                        <td id=\"T_8c30ca76_2b4f_11eb_9588_34e12db8514arow5_col13\" class=\"data row5 col13\" >0.800000</td>\n",
       "            </tr>\n",
       "            <tr>\n",
       "                        <th id=\"T_8c30ca76_2b4f_11eb_9588_34e12db8514alevel0_row6\" class=\"row_heading level0 row6\" >6</th>\n",
       "                        <td id=\"T_8c30ca76_2b4f_11eb_9588_34e12db8514arow6_col0\" class=\"data row6 col0\" >44</td>\n",
       "                        <td id=\"T_8c30ca76_2b4f_11eb_9588_34e12db8514arow6_col1\" class=\"data row6 col1\" >private</td>\n",
       "                        <td id=\"T_8c30ca76_2b4f_11eb_9588_34e12db8514arow6_col2\" class=\"data row6 col2\" >masters</td>\n",
       "                        <td id=\"T_8c30ca76_2b4f_11eb_9588_34e12db8514arow6_col3\" class=\"data row6 col3\" >14</td>\n",
       "                        <td id=\"T_8c30ca76_2b4f_11eb_9588_34e12db8514arow6_col4\" class=\"data row6 col4\" >never_married</td>\n",
       "                        <td id=\"T_8c30ca76_2b4f_11eb_9588_34e12db8514arow6_col5\" class=\"data row6 col5\" >prof_specialty</td>\n",
       "                        <td id=\"T_8c30ca76_2b4f_11eb_9588_34e12db8514arow6_col6\" class=\"data row6 col6\" >not_in_family</td>\n",
       "                        <td id=\"T_8c30ca76_2b4f_11eb_9588_34e12db8514arow6_col7\" class=\"data row6 col7\" >white</td>\n",
       "                        <td id=\"T_8c30ca76_2b4f_11eb_9588_34e12db8514arow6_col8\" class=\"data row6 col8\" >female</td>\n",
       "                        <td id=\"T_8c30ca76_2b4f_11eb_9588_34e12db8514arow6_col9\" class=\"data row6 col9\" >55</td>\n",
       "                        <td id=\"T_8c30ca76_2b4f_11eb_9588_34e12db8514arow6_col10\" class=\"data row6 col10\" ><=50k</td>\n",
       "                        <td id=\"T_8c30ca76_2b4f_11eb_9588_34e12db8514arow6_col11\" class=\"data row6 col11\" >0</td>\n",
       "                        <td id=\"T_8c30ca76_2b4f_11eb_9588_34e12db8514arow6_col12\" class=\"data row6 col12\" >0</td>\n",
       "                        <td id=\"T_8c30ca76_2b4f_11eb_9588_34e12db8514arow6_col13\" class=\"data row6 col13\" >0.800000</td>\n",
       "            </tr>\n",
       "            <tr>\n",
       "                        <th id=\"T_8c30ca76_2b4f_11eb_9588_34e12db8514alevel0_row7\" class=\"row_heading level0 row7\" >7</th>\n",
       "                        <td id=\"T_8c30ca76_2b4f_11eb_9588_34e12db8514arow7_col0\" class=\"data row7 col0\" >28</td>\n",
       "                        <td id=\"T_8c30ca76_2b4f_11eb_9588_34e12db8514arow7_col1\" class=\"data row7 col1\" >private</td>\n",
       "                        <td id=\"T_8c30ca76_2b4f_11eb_9588_34e12db8514arow7_col2\" class=\"data row7 col2\" >hs_grad</td>\n",
       "                        <td id=\"T_8c30ca76_2b4f_11eb_9588_34e12db8514arow7_col3\" class=\"data row7 col3\" >9</td>\n",
       "                        <td id=\"T_8c30ca76_2b4f_11eb_9588_34e12db8514arow7_col4\" class=\"data row7 col4\" >never_married</td>\n",
       "                        <td id=\"T_8c30ca76_2b4f_11eb_9588_34e12db8514arow7_col5\" class=\"data row7 col5\" >exec_managerial</td>\n",
       "                        <td id=\"T_8c30ca76_2b4f_11eb_9588_34e12db8514arow7_col6\" class=\"data row7 col6\" >not_in_family</td>\n",
       "                        <td id=\"T_8c30ca76_2b4f_11eb_9588_34e12db8514arow7_col7\" class=\"data row7 col7\" >white</td>\n",
       "                        <td id=\"T_8c30ca76_2b4f_11eb_9588_34e12db8514arow7_col8\" class=\"data row7 col8\" >female</td>\n",
       "                        <td id=\"T_8c30ca76_2b4f_11eb_9588_34e12db8514arow7_col9\" class=\"data row7 col9\" >40</td>\n",
       "                        <td id=\"T_8c30ca76_2b4f_11eb_9588_34e12db8514arow7_col10\" class=\"data row7 col10\" ><=50k</td>\n",
       "                        <td id=\"T_8c30ca76_2b4f_11eb_9588_34e12db8514arow7_col11\" class=\"data row7 col11\" >0</td>\n",
       "                        <td id=\"T_8c30ca76_2b4f_11eb_9588_34e12db8514arow7_col12\" class=\"data row7 col12\" >0</td>\n",
       "                        <td id=\"T_8c30ca76_2b4f_11eb_9588_34e12db8514arow7_col13\" class=\"data row7 col13\" >0.800000</td>\n",
       "            </tr>\n",
       "            <tr>\n",
       "                        <th id=\"T_8c30ca76_2b4f_11eb_9588_34e12db8514alevel0_row8\" class=\"row_heading level0 row8\" >8</th>\n",
       "                        <td id=\"T_8c30ca76_2b4f_11eb_9588_34e12db8514arow8_col0\" class=\"data row8 col0\" >44</td>\n",
       "                        <td id=\"T_8c30ca76_2b4f_11eb_9588_34e12db8514arow8_col1\" class=\"data row8 col1\" >federal_gov</td>\n",
       "                        <td id=\"T_8c30ca76_2b4f_11eb_9588_34e12db8514arow8_col2\" class=\"data row8 col2\" >bachelors</td>\n",
       "                        <td id=\"T_8c30ca76_2b4f_11eb_9588_34e12db8514arow8_col3\" class=\"data row8 col3\" >13</td>\n",
       "                        <td id=\"T_8c30ca76_2b4f_11eb_9588_34e12db8514arow8_col4\" class=\"data row8 col4\" >divorced</td>\n",
       "                        <td id=\"T_8c30ca76_2b4f_11eb_9588_34e12db8514arow8_col5\" class=\"data row8 col5\" >exec_managerial</td>\n",
       "                        <td id=\"T_8c30ca76_2b4f_11eb_9588_34e12db8514arow8_col6\" class=\"data row8 col6\" >not_in_family</td>\n",
       "                        <td id=\"T_8c30ca76_2b4f_11eb_9588_34e12db8514arow8_col7\" class=\"data row8 col7\" >black</td>\n",
       "                        <td id=\"T_8c30ca76_2b4f_11eb_9588_34e12db8514arow8_col8\" class=\"data row8 col8\" >female</td>\n",
       "                        <td id=\"T_8c30ca76_2b4f_11eb_9588_34e12db8514arow8_col9\" class=\"data row8 col9\" >40</td>\n",
       "                        <td id=\"T_8c30ca76_2b4f_11eb_9588_34e12db8514arow8_col10\" class=\"data row8 col10\" ><=50k</td>\n",
       "                        <td id=\"T_8c30ca76_2b4f_11eb_9588_34e12db8514arow8_col11\" class=\"data row8 col11\" >0</td>\n",
       "                        <td id=\"T_8c30ca76_2b4f_11eb_9588_34e12db8514arow8_col12\" class=\"data row8 col12\" >0</td>\n",
       "                        <td id=\"T_8c30ca76_2b4f_11eb_9588_34e12db8514arow8_col13\" class=\"data row8 col13\" >0.800000</td>\n",
       "            </tr>\n",
       "            <tr>\n",
       "                        <th id=\"T_8c30ca76_2b4f_11eb_9588_34e12db8514alevel0_row9\" class=\"row_heading level0 row9\" >9</th>\n",
       "                        <td id=\"T_8c30ca76_2b4f_11eb_9588_34e12db8514arow9_col0\" class=\"data row9 col0\" >26</td>\n",
       "                        <td id=\"T_8c30ca76_2b4f_11eb_9588_34e12db8514arow9_col1\" class=\"data row9 col1\" >private</td>\n",
       "                        <td id=\"T_8c30ca76_2b4f_11eb_9588_34e12db8514arow9_col2\" class=\"data row9 col2\" >9th</td>\n",
       "                        <td id=\"T_8c30ca76_2b4f_11eb_9588_34e12db8514arow9_col3\" class=\"data row9 col3\" >5</td>\n",
       "                        <td id=\"T_8c30ca76_2b4f_11eb_9588_34e12db8514arow9_col4\" class=\"data row9 col4\" >married_civ_spouse</td>\n",
       "                        <td id=\"T_8c30ca76_2b4f_11eb_9588_34e12db8514arow9_col5\" class=\"data row9 col5\" >craft_repair</td>\n",
       "                        <td id=\"T_8c30ca76_2b4f_11eb_9588_34e12db8514arow9_col6\" class=\"data row9 col6\" >husband</td>\n",
       "                        <td id=\"T_8c30ca76_2b4f_11eb_9588_34e12db8514arow9_col7\" class=\"data row9 col7\" >white</td>\n",
       "                        <td id=\"T_8c30ca76_2b4f_11eb_9588_34e12db8514arow9_col8\" class=\"data row9 col8\" >male</td>\n",
       "                        <td id=\"T_8c30ca76_2b4f_11eb_9588_34e12db8514arow9_col9\" class=\"data row9 col9\" >20</td>\n",
       "                        <td id=\"T_8c30ca76_2b4f_11eb_9588_34e12db8514arow9_col10\" class=\"data row9 col10\" ><=50k</td>\n",
       "                        <td id=\"T_8c30ca76_2b4f_11eb_9588_34e12db8514arow9_col11\" class=\"data row9 col11\" >0</td>\n",
       "                        <td id=\"T_8c30ca76_2b4f_11eb_9588_34e12db8514arow9_col12\" class=\"data row9 col12\" >0</td>\n",
       "                        <td id=\"T_8c30ca76_2b4f_11eb_9588_34e12db8514arow9_col13\" class=\"data row9 col13\" >1.000000</td>\n",
       "            </tr>\n",
       "    </tbody></table>"
      ],
      "text/plain": [
       "<pandas.io.formats.style.Styler at 0x24bf78ceb38>"
      ]
     },
     "execution_count": 148,
     "metadata": {},
     "output_type": "execute_result"
    }
   ],
   "source": [
    "th_props = [\n",
    "  ('font-size', '11px'),\n",
    "  ('text-align', 'center'),\n",
    "  ('font-weight', 'bold'),\n",
    "  ('color', '#6d6d6d'),\n",
    "  ('background-color', '#f7f7f9')\n",
    "  ]\n",
    "\n",
    "# Set CSS properties for td elements in dataframe\n",
    "td_props = [\n",
    "  ('font-size', '11px')\n",
    "  ]\n",
    "styles = [\n",
    "  dict(selector=\"th\", props=th_props),\n",
    "  dict(selector=\"td\", props=td_props)\n",
    "  ]\n",
    "cm = sns.light_palette(\"green\", as_cmap=True)\n",
    "\n",
    "(census_data_df.head(10).style\n",
    "  .background_gradient(cmap=cm, subset=['income_class','prediction','confidence'])\n",
    "  .set_caption('KNN Prediction')\n",
    "  .set_table_styles(styles))"
   ]
  },
  {
   "cell_type": "code",
   "execution_count": 93,
   "metadata": {},
   "outputs": [
    {
     "name": "stdout",
     "output_type": "stream",
     "text": [
      "Accuracy of model on testing data is 0.7922222222222223\n",
      "F1 Score of model on testing data is 0.7116873134994559\n",
      "Log loss of model on testing data is 1.3393046101551458\n"
     ]
    }
   ],
   "source": [
    "mod_acc = accuracy_score(y_test, y_pred_knn)\n",
    "mod_f1 = f1_score(y_test, y_pred_knn, average = 'macro')\n",
    "mod_ll = log_loss(y_test, y_pred_proba_knn)\n",
    "\n",
    "print('Accuracy of model on testing data is', mod_acc)\n",
    "print('F1 Score of model on testing data is', mod_f1)\n",
    "print('Log loss of model on testing data is', mod_ll)"
   ]
  },
  {
   "cell_type": "code",
   "execution_count": 109,
   "metadata": {},
   "outputs": [
    {
     "name": "stdout",
     "output_type": "stream",
     "text": [
      "-------------------- Confusion matrix --------------------\n"
     ]
    },
    {
     "data": {
      "image/png": "[encoded data removed]",
      "text/plain": [
       "<Figure size 1080x504 with 2 Axes>"
      ]
     },
     "metadata": {
      "needs_background": "light"
     },
     "output_type": "display_data"
    }
   ],
   "source": [
    "plot_confusion_matrix(y_pred_knn, y_pred)"
   ]
  },
  {
   "cell_type": "code",
   "execution_count": 104,
   "metadata": {},
   "outputs": [],
   "source": [
    "#Calculating True Positive Rate and False Positive Rate\n",
    "C = confusion_matrix(y_test, y_pred_knn)\n",
    "C = C.astype(int)\n",
    "TN, FP, FN,TP = C[0][0], C[0][1], C[1][0], C[1][1]\n",
    "KNN_TPR = TP/(TP+FN)\n",
    "KNN_FPR = FP/(FP+TN)"
   ]
  },
  {
   "cell_type": "markdown",
   "metadata": {},
   "source": [
    "<h2>Decesion Tree Modelling</h2>"
   ]
  },
  {
   "cell_type": "code",
   "execution_count": 107,
   "metadata": {},
   "outputs": [
    {
     "name": "stdout",
     "output_type": "stream",
     "text": [
      "Tuning Hyperparameters...\n",
      "Training Completed\n",
      "Best Parameter is  {'splitter': 'random', 'min_samples_split': 0.2, 'min_samples_leaf': 0.2, 'max_depth': 57, 'criterion': 'gini'}\n",
      "Best F1 Score is  0.5120216631791815\n",
      "Tuning Hyperparameters completed and applying on best model...\n",
      "Accuracy of model on testing data is 0.7644444444444445\n",
      "F1 Score of model on testing data is 0.6636578947162245\n",
      "Log loss of model on testing data is 0.42994643770954416\n"
     ]
    }
   ],
   "source": [
    "model=DecisionTreeClassifier()\n",
    "hyperparams = {'criterion':['gini', 'entropy'],'splitter':['best', 'random'],'max_depth':np.linspace(1,120,60,endpoint=True,dtype=int),'min_samples_split':np.linspace(0.1, 1.0, 10, endpoint=True),\\\n",
    "          'min_samples_leaf':np.linspace(0.1, 0.5, 5, endpoint=True)\n",
    "     }\n",
    "print(\"Tuning Hyperparameters...\")\n",
    "best_params = tuning_random(model, hyperparams, 'n_estimators', x_train, y_train, 'params',is_multi=True)\n",
    "print(\"Tuning Hyperparameters completed and applying on best model...\")\n",
    "dc_clf = DecisionTreeClassifier(max_depth=best_params['max_depth'],\n",
    "                        min_samples_split=best_params['min_samples_split'],\n",
    "                        min_samples_leaf=best_params['min_samples_leaf'],\n",
    "                        criterion= best_params['criterion'],\n",
    "                     splitter= best_params['splitter'],random_state=100).fit(x_train, y_train)\n",
    "y_pred_dt = dc_clf.predict(x_test)\n",
    "y_pred_proba_dt = dc_clf.predict_proba(x_test)\n",
    "\n",
    "dt_mod_acc = accuracy_score(y_test, y_pred_dt)\n",
    "dt_mod_f1 = f1_score(y_test, y_pred_dt, average = 'macro')\n",
    "dt_mod_ll = log_loss(y_test, y_pred_proba_dt)\n",
    "\n",
    "print('Accuracy of model on testing data is', dt_mod_acc)\n",
    "print('F1 Score of model on testing data is', dt_mod_f1)\n",
    "print('Log loss of model on testing data is', dt_mod_ll)"
   ]
  },
  {
   "cell_type": "code",
   "execution_count": 108,
   "metadata": {},
   "outputs": [
    {
     "name": "stdout",
     "output_type": "stream",
     "text": [
      "-------------------- Confusion matrix --------------------\n"
     ]
    },
    {
     "data": {
      "image/png": "[encoded data removed]",
      "text/plain": [
       "<Figure size 1080x504 with 2 Axes>"
      ]
     },
     "metadata": {
      "needs_background": "light"
     },
     "output_type": "display_data"
    }
   ],
   "source": [
    "plot_confusion_matrix(y_pred_dt, y_pred)"
   ]
  },
  {
   "cell_type": "code",
   "execution_count": 110,
   "metadata": {},
   "outputs": [],
   "source": [
    "#Calculating True Positive Rate and False Positive Rate\n",
    "C = confusion_matrix(y_test, y_pred_dt)\n",
    "C = C.astype(int)\n",
    "TN, FP, FN,TP = C[0][0], C[0][1], C[1][0], C[1][1]\n",
    "DT_TPR = TP/(TP+FN)\n",
    "DT_FPR = FP/(FP+TN)"
   ]
  },
  {
   "cell_type": "code",
   "execution_count": 121,
   "metadata": {},
   "outputs": [
    {
     "data": {
      "image/png": "[encoded data removed]",
      "text/plain": [
       "<Figure size 1800x1440 with 1 Axes>"
      ]
     },
     "metadata": {
      "needs_background": "light"
     },
     "output_type": "display_data"
    }
   ],
   "source": [
    "fig = plt.figure(figsize=(25,20))\n",
    "tree.plot_tree(dc_clf,\n",
    "               feature_names = x_train.columns, \n",
    "               class_names=['0','1'],\n",
    "               filled = True);"
   ]
  },
  {
   "cell_type": "markdown",
   "metadata": {},
   "source": [
    "<h2>Results Summary</h2>"
   ]
  },
  {
   "cell_type": "code",
   "execution_count": 112,
   "metadata": {},
   "outputs": [],
   "source": [
    "Model_Results = pd.DataFrame([['KNN',mod_acc,mod_f1,mod_ll,KNN_TPR,KNN_FPR],['Decesion Tree',dt_mod_acc,dt_mod_f1,dt_mod_ll,DT_TPR,DT_FPR]],columns=['Model','Accuracy','F1_Score','Log_Loss','TPR','FPR'])"
   ]
  },
  {
   "cell_type": "code",
   "execution_count": 114,
   "metadata": {},
   "outputs": [
    {
     "data": {
      "text/plain": [
       "<matplotlib.axes._subplots.AxesSubplot at 0x24bfb45d438>"
      ]
     },
     "execution_count": 114,
     "metadata": {},
     "output_type": "execute_result"
    },
    {
     "data": {
      "image/png": "[encoded data removed]",
      "text/plain": [
       "<Figure size 576x432 with 1 Axes>"
      ]
     },
     "metadata": {
      "needs_background": "light"
     },
     "output_type": "display_data"
    }
   ],
   "source": [
    "Model_Results.plot(x='Model',y=['Accuracy','F1_Score','Log_Loss','TPR','FPR'], kind='bar',figsize=(8,6))"
   ]
  },
  {
   "cell_type": "markdown",
   "metadata": {},
   "source": [
    "<h2>Model Summary</h2>\n",
    "\n",
    "The Accuracy of Knn is higher compared to Decesion Tree\n",
    "\n",
    "The log loss of DT is good compared to KNN\n",
    "\n",
    "The TPR and FPR of both the models are comparably equal\n",
    "\n",
    "The F1 score of the KNN is high compared to Decesion Tree\n",
    "\n",
    "Overall KNN model is doing good when compared to decesion tree"
   ]
  }
 ],
 "metadata": {
  "kernelspec": {
   "display_name": "Python 3",
   "language": "python",
   "name": "python3"
  },
  "language_info": {
   "codemirror_mode": {
    "name": "ipython",
    "version": 3
   },
   "file_extension": ".py",
   "mimetype": "text/x-python",
   "name": "python",
   "nbconvert_exporter": "python",
   "pygments_lexer": "ipython3",
   "version": "3.7.3"
  }
 },
 "nbformat": 4,
 "nbformat_minor": 2
}
